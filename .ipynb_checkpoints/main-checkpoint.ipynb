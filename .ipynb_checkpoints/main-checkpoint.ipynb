{
 "cells": [
  {
   "cell_type": "code",
   "execution_count": null,
   "id": "fd41403d",
   "metadata": {},
   "outputs": [],
   "source": [
    "import pandas as pd\n",
    "import numpy as np\n",
    "from kmodes.kmodes import KModes\n",
    "from sklearn.cluster import KMeans\n",
    "from sklearn.cluster import AffinityPropagation\n",
    "from sklearn.cluster import MeanShift\n",
    "from sklearn.cluster import SpectralClustering\n",
    "from sklearn.cluster import AgglomerativeClustering\n",
    "from sklearn.cluster import DBSCAN\n",
    "from sklearn.cluster import OPTICS\n",
    "from sklearn.cluster import Birch\n",
    "from matplotlib import pyplot as plt\n",
    "from sklearn.manifold import TSNE\n",
    "import plotly.express as px\n",
    "from sklearn import metrics"
   ]
  },
  {
   "cell_type": "code",
   "execution_count": null,
   "id": "4fa807e1",
   "metadata": {},
   "outputs": [],
   "source": [
    "#REMEMBER TO REPLACE THESE FILE PATHS\n",
    "zoo_path = \"/Users/mattiamosconi/Documents/GitHub/zoo_clustering/zoo.csv\"\n",
    "class_path = \"/Users/mattiamosconi/Documents/GitHub/zoo_clustering/class.csv\""
   ]
  },
  {
   "cell_type": "code",
   "execution_count": null,
   "id": "7df052bb",
   "metadata": {},
   "outputs": [],
   "source": [
    "#defining a Manager class we'll use to handle the dataframe\n",
    "class Manager():\n",
    "    def __init__(self): #we don't need attributes for Manager objects\n",
    "        pass\n",
    "    def new(self, path): #creates a new df by reading a csv file\n",
    "        new_dataframe = pd.read_csv(path)\n",
    "        return new_dataframe\n",
    "    def truth(self, df, target_column): #extracts the target column as a numpy array\n",
    "        target = df[target_column].to_numpy()\n",
    "        return target\n",
    "    def drop(self, df, columns): #drops columns from a pandas df\n",
    "        for i in columns:\n",
    "            df.drop(i, axis=1, inplace=True)\n",
    "    def standardize(self, df): #standardizes a pandas df\n",
    "        for i in df.columns.values:\n",
    "            df[i] = (df[i] - df[i].mean() ) / df[i].std() \n",
    "    def np(self, df): #converts a pandas df into a numpy array\n",
    "        df = df.to_numpy()\n",
    "        return df\n",
    "    def analyze(self, df, clusters): #adds clusters array to df as the \"clusters\" column, then groups by cluster and gives a statistical description of the samples in each cluster\n",
    "        df[\"cluster\"] = clusters\n",
    "        analysis = df.groupby([\"cluster\"])\n",
    "        for v in range(len(np.unique(clusters))): #not all our algorithms give 7 clusters as output\n",
    "            print(\"CLUSTER \"+str(v+1)+\":\\n\")\n",
    "            print(analysis.get_group(v+1).describe(percentiles=[]))\n",
    "            print(\"\\n\")\n",
    "#Manager could have more methods to modify the starting dataframe. We just implemented drop and standardize due to the nature of our dataset"
   ]
  },
  {
   "cell_type": "code",
   "execution_count": null,
   "id": "1a8a36bc",
   "metadata": {},
   "outputs": [],
   "source": [
    "#defining an Algorithm class we'll use to implement different clustering algorithms\n",
    "class Algorithm():\n",
    "    def __init__(self):\n",
    "        pass\n",
    "    def kmodes(self, data):\n",
    "        kmodes = KModes(n_clusters=7, init = \"Cao\", n_init = 100, verbose=0).fit(data)\n",
    "        output = kmodes.predict(data).astype('int64')+1 #+1 because the classes are 1 to 7, while the 7 kmodes clusters will be 0 to 6, so adding 1 provides us with better visualization\n",
    "        return output\n",
    "    def kmeans(self, data, rand = None):\n",
    "        kmeans = KMeans(n_clusters=7, random_state=rand, n_init=10,).fit(data)\n",
    "        output = kmeans.predict(data).astype('int64')+1\n",
    "        return output\n",
    "    def affinity(self, data, rand = None):\n",
    "        affinity = AffinityPropagation(random_state=rand).fit(data)\n",
    "        output = affinity.predict(data).astype('int64')+1 \n",
    "        return output  \n",
    "    def meanshift(self, data):\n",
    "        meanshift = MeanShift().fit(data)\n",
    "        output = meanshift.predict(data).astype('int64')+1\n",
    "        return output\n",
    "    def spectral(self, data, rand = None):\n",
    "        output = SpectralClustering(n_clusters=7, assign_labels='discretize', random_state=rand).fit_predict(data).astype('int64')+1\n",
    "        return output\n",
    "    def hierarchical(self, data):\n",
    "        output = AgglomerativeClustering(n_clusters=7,linkage='complete').fit_predict(data).astype('int64')+1\n",
    "        return output\n",
    "    def dbscan(self, data):\n",
    "        output = DBSCAN().fit_predict(data).astype('int64')+1  \n",
    "        return output\n",
    "    def optics(self, data):\n",
    "        output = OPTICS().fit_predict(data).astype('int64')+2\n",
    "        return output\n",
    "    def birch(self, data):\n",
    "        birch = Birch(n_clusters=7).fit(data)\n",
    "        output = birch.predict(data).astype('int64')+1 \n",
    "        return output     "
   ]
  },
  {
   "cell_type": "code",
   "execution_count": null,
   "id": "fed44783",
   "metadata": {},
   "outputs": [],
   "source": [
    "#defining a Visualizer class we'll use to visually evaluate models\n",
    "class Visualizer():\n",
    "    def __init__(self):\n",
    "        pass\n",
    "    def stair(self, target, model_output):\n",
    "        ordered_target = np.zeros(len(data)).astype('int64') #ordered ground truth. It will store, in increasing order, all the class values in target array\n",
    "        tindex = np.zeros(len(data)).astype('int64') #truth index. It will store the ordered indexes of the values we moved to ordered_target\n",
    "        ordered_model_output = np.zeros(len(data)).astype('int64') #it will store the values in clusters array, ordered by the indexes in tindex\n",
    "        c1 = 0 #counter 1 and 2 will allow us to replace the zeros with our values in the right order\n",
    "        c2 = 0 \n",
    "        for n in range(1,8): #update ordered_target and tindex\n",
    "            for i, v in enumerate(target):\n",
    "                if v == n:\n",
    "                    ordered_target[c1]=v\n",
    "                    tindex[c1]=i\n",
    "                    c1 += 1\n",
    "        for j in tindex: #update ordered_model_output\n",
    "            ordered_model_output[c2]=model_output[j]\n",
    "            c2 += 1\n",
    "        return (ordered_target, ordered_model_output)\n",
    "    def lineplot(self, target, model_output):\n",
    "        plt.plot(np.c_[target,model_output])\n",
    "    def tsne(self, data, target, model_output, class_number, class_type, rand=None): #class_number and class_type are df columns\n",
    "        #TSNE dimensionality reduction will help us plot and visually understand how well our clustering algorithm performed\n",
    "        data_tsne= TSNE(n_components=2, learning_rate='auto', init='random', random_state=rand).fit_transform(data)\n",
    "        mapper = dict(zip(class_number, class_type))\n",
    "        target2 = pd.Series(target)\n",
    "        plot_df = pd.DataFrame(data_tsne, columns=[\"tsne1\", \"tsne2\"])\n",
    "        plot_df[\"label\"] = target2.map(mapper)\n",
    "        plot_df[\"cluster\"] = model_output.astype(str)\n",
    "        fig = px.scatter(plot_df, x=\"tsne1\", y=\"tsne2\", color=\"cluster\", hover_name=\"label\")\n",
    "        fig.show()\n",
    "        return plot_df\n",
    "    def update_tsne(self, plot_df, model_output): #this method allows us to use the same tsne plot for all algorithms by just changing the model_output array. An alternative would be to run tsne everytime with a fixed seed, but it would cost us more from a computational point of view\n",
    "        plot_df[\"cluster\"] = model_output.astype(str)\n",
    "        fig = px.scatter(plot_df, x=\"tsne1\", y=\"tsne2\", color=\"cluster\", hover_name=\"label\")\n",
    "        fig.show()"
   ]
  },
  {
   "cell_type": "code",
   "execution_count": null,
   "id": "e0301ad0",
   "metadata": {},
   "outputs": [],
   "source": [
    "m = Manager()\n",
    "v = Visualizer()\n",
    "a = Algorithm()"
   ]
  },
  {
   "cell_type": "code",
   "execution_count": null,
   "id": "ca2d5b66",
   "metadata": {},
   "outputs": [],
   "source": [
    "#importing the csv files as pandas DataFrames\n",
    "df = m.new(zoo_path)\n",
    "classes = m.new(class_path)\n",
    "#before dropping df.class_type (our ground truth), let's store it in a numpy array called \"target\"\n",
    "target = m.truth(df, \"class_type\")\n",
    "#dropping the ground truth and the string column we don't need\n",
    "m.drop(df, [\"animal_name\", \"class_type\"])\n",
    "#transforming the df into a np array\n",
    "data = m.np(df)\n",
    "df2 = df.copy(deep=True) #this is a copy of our dataframe we'll need later"
   ]
  },
  {
   "cell_type": "code",
   "execution_count": null,
   "id": "3c1508fc",
   "metadata": {},
   "outputs": [],
   "source": [
    "df"
   ]
  },
  {
   "cell_type": "code",
   "execution_count": null,
   "id": "65de6f39",
   "metadata": {},
   "outputs": [],
   "source": [
    "target"
   ]
  },
  {
   "cell_type": "code",
   "execution_count": null,
   "id": "7fb081f7",
   "metadata": {},
   "outputs": [],
   "source": [
    "plot = v.tsne(data, target, target, classes[\"Class_Number\"], classes[\"Class_Type\"], rand=0) #we'll use plot variable to update the tsne plot with update_tsne for a better comparison between algorithms"
   ]
  },
  {
   "cell_type": "code",
   "execution_count": null,
   "id": "5ae6fe71",
   "metadata": {},
   "outputs": [],
   "source": [
    "m.analyze(df, target)"
   ]
  },
  {
   "cell_type": "code",
   "execution_count": null,
   "id": "228692d6",
   "metadata": {},
   "outputs": [],
   "source": [
    "kmodes_output = a.kmodes(data)\n",
    "kmodes_output"
   ]
  },
  {
   "cell_type": "code",
   "execution_count": null,
   "id": "f5aa962d",
   "metadata": {},
   "outputs": [],
   "source": [
    "x, y = v.stair(target, kmodes_output)\n",
    "v.lineplot(x, y)"
   ]
  },
  {
   "cell_type": "code",
   "execution_count": null,
   "id": "5a68a36e",
   "metadata": {},
   "outputs": [],
   "source": [
    "v.update_tsne(plot, kmodes_output)"
   ]
  },
  {
   "cell_type": "code",
   "execution_count": null,
   "id": "0f3b403f",
   "metadata": {},
   "outputs": [],
   "source": [
    "scores = np.zeros(9)\n",
    "s1 = metrics.adjusted_rand_score(target, kmodes_output)\n",
    "scores[0] = s1\n",
    "s1"
   ]
  },
  {
   "cell_type": "code",
   "execution_count": null,
   "id": "8fc6a4cd",
   "metadata": {},
   "outputs": [],
   "source": [
    "m.analyze(df, kmodes_output)"
   ]
  },
  {
   "cell_type": "code",
   "execution_count": null,
   "id": "6f04ac31",
   "metadata": {},
   "outputs": [],
   "source": [
    "#the next algorithms don't work with categorical data, so we'll standardize df2 (keeping the original df for our m.analyze method)\n",
    "m.standardize(df2)\n",
    "df2"
   ]
  },
  {
   "cell_type": "code",
   "execution_count": null,
   "id": "177fa000",
   "metadata": {},
   "outputs": [],
   "source": [
    "data = m.np(df2)\n",
    "kmeans_output = a.kmeans(data)\n",
    "kmeans_output"
   ]
  },
  {
   "cell_type": "code",
   "execution_count": null,
   "id": "37c1b89e",
   "metadata": {},
   "outputs": [],
   "source": [
    "x, y = v.stair(target, kmeans_output)\n",
    "v.lineplot(x, y)"
   ]
  },
  {
   "cell_type": "code",
   "execution_count": null,
   "id": "7a736869",
   "metadata": {},
   "outputs": [],
   "source": [
    "v.update_tsne(plot, kmeans_output)"
   ]
  },
  {
   "cell_type": "code",
   "execution_count": null,
   "id": "190ef5b6",
   "metadata": {},
   "outputs": [],
   "source": [
    "s2 = metrics.adjusted_rand_score(target, kmeans_output)\n",
    "scores[1] = s2\n",
    "s2"
   ]
  },
  {
   "cell_type": "code",
   "execution_count": null,
   "id": "593885ef",
   "metadata": {},
   "outputs": [],
   "source": [
    "m.analyze(df, kmeans_output)"
   ]
  },
  {
   "cell_type": "code",
   "execution_count": null,
   "id": "9e0556b6",
   "metadata": {},
   "outputs": [],
   "source": [
    "affinity_output = a.affinity(data)\n",
    "affinity_output"
   ]
  },
  {
   "cell_type": "code",
   "execution_count": null,
   "id": "64fbca11",
   "metadata": {},
   "outputs": [],
   "source": [
    "x, y = v.stair(target, affinity_output)\n",
    "v.lineplot(x, y)"
   ]
  },
  {
   "cell_type": "code",
   "execution_count": null,
   "id": "63075dac",
   "metadata": {},
   "outputs": [],
   "source": [
    "v.update_tsne(plot, affinity_output)"
   ]
  },
  {
   "cell_type": "code",
   "execution_count": null,
   "id": "ab4b491b",
   "metadata": {},
   "outputs": [],
   "source": [
    "s3 = metrics.adjusted_rand_score(target, affinity_output)\n",
    "scores[2] = s3\n",
    "s3"
   ]
  },
  {
   "cell_type": "code",
   "execution_count": null,
   "id": "d36895f3",
   "metadata": {},
   "outputs": [],
   "source": [
    "if len(np.unique(affinity_output))>1: #this is to prevent an error, in case AffinityPropagation doesn't converge\n",
    "    m.analyze(df, affinity_output)"
   ]
  },
  {
   "cell_type": "code",
   "execution_count": null,
   "id": "4abb8a94",
   "metadata": {},
   "outputs": [],
   "source": [
    "meanshift_output = a.meanshift(data)\n",
    "meanshift_output"
   ]
  },
  {
   "cell_type": "code",
   "execution_count": null,
   "id": "152c29b6",
   "metadata": {},
   "outputs": [],
   "source": [
    "x, y = v.stair(target, meanshift_output)\n",
    "v.lineplot(x, y)"
   ]
  },
  {
   "cell_type": "code",
   "execution_count": null,
   "id": "48531124",
   "metadata": {},
   "outputs": [],
   "source": [
    "v.update_tsne(plot, meanshift_output)"
   ]
  },
  {
   "cell_type": "code",
   "execution_count": null,
   "id": "f4b87613",
   "metadata": {},
   "outputs": [],
   "source": [
    "s4 = metrics.adjusted_rand_score(target, meanshift_output)\n",
    "scores[3] = s4\n",
    "s4"
   ]
  },
  {
   "cell_type": "code",
   "execution_count": null,
   "id": "bc613d7b",
   "metadata": {},
   "outputs": [],
   "source": [
    "m.analyze(df, meanshift_output)"
   ]
  },
  {
   "cell_type": "code",
   "execution_count": null,
   "id": "f3064d15",
   "metadata": {},
   "outputs": [],
   "source": [
    "spectral_output = a.spectral(data)\n",
    "spectral_output"
   ]
  },
  {
   "cell_type": "code",
   "execution_count": null,
   "id": "89d173c3",
   "metadata": {},
   "outputs": [],
   "source": [
    "x, y = v.stair(target, spectral_output)\n",
    "v.lineplot(x, y)"
   ]
  },
  {
   "cell_type": "code",
   "execution_count": null,
   "id": "16ec6ed2",
   "metadata": {},
   "outputs": [],
   "source": [
    "v.update_tsne(plot, spectral_output)"
   ]
  },
  {
   "cell_type": "code",
   "execution_count": null,
   "id": "a58d8143",
   "metadata": {},
   "outputs": [],
   "source": [
    "s5 = metrics.adjusted_rand_score(target, spectral_output)\n",
    "scores[4] = s5\n",
    "s5"
   ]
  },
  {
   "cell_type": "code",
   "execution_count": null,
   "id": "5fdd6f63",
   "metadata": {},
   "outputs": [],
   "source": [
    "m.analyze(df, spectral_output)"
   ]
  },
  {
   "cell_type": "code",
   "execution_count": null,
   "id": "35c38282",
   "metadata": {},
   "outputs": [],
   "source": [
    "hierarchical_output = a.hierarchical(data)\n",
    "hierarchical_output"
   ]
  },
  {
   "cell_type": "code",
   "execution_count": null,
   "id": "62a8005a",
   "metadata": {},
   "outputs": [],
   "source": [
    "x, y = v.stair(target, hierarchical_output)\n",
    "v.lineplot(x, y)"
   ]
  },
  {
   "cell_type": "code",
   "execution_count": null,
   "id": "eaecc72a",
   "metadata": {},
   "outputs": [],
   "source": [
    "v.update_tsne(plot, hierarchical_output)"
   ]
  },
  {
   "cell_type": "code",
   "execution_count": null,
   "id": "ffb1c87f",
   "metadata": {},
   "outputs": [],
   "source": [
    "s6 = metrics.adjusted_rand_score(target, hierarchical_output)\n",
    "scores[5] = s6\n",
    "s6"
   ]
  },
  {
   "cell_type": "code",
   "execution_count": null,
   "id": "c3050abb",
   "metadata": {},
   "outputs": [],
   "source": [
    "m.analyze(df, hierarchical_output)"
   ]
  },
  {
   "cell_type": "code",
   "execution_count": null,
   "id": "6f243396",
   "metadata": {},
   "outputs": [],
   "source": [
    "dbscan_output = a.hierarchical(data)\n",
    "dbscan_output"
   ]
  },
  {
   "cell_type": "code",
   "execution_count": null,
   "id": "47251c03",
   "metadata": {},
   "outputs": [],
   "source": [
    "x, y = v.stair(target, dbscan_output)\n",
    "v.lineplot(x, y)"
   ]
  },
  {
   "cell_type": "code",
   "execution_count": null,
   "id": "d0da87b2",
   "metadata": {},
   "outputs": [],
   "source": [
    "v.update_tsne(plot, dbscan_output)"
   ]
  },
  {
   "cell_type": "code",
   "execution_count": null,
   "id": "a78fd9c9",
   "metadata": {},
   "outputs": [],
   "source": [
    "s7 = metrics.adjusted_rand_score(target, dbscan_output)\n",
    "scores[6] = s7\n",
    "s7"
   ]
  },
  {
   "cell_type": "code",
   "execution_count": null,
   "id": "ff1c9e30",
   "metadata": {},
   "outputs": [],
   "source": [
    "m.analyze(df, dbscan_output)"
   ]
  },
  {
   "cell_type": "code",
   "execution_count": null,
   "id": "1bfbd5ba",
   "metadata": {},
   "outputs": [],
   "source": [
    "optics_output = a.optics(data)\n",
    "optics_output"
   ]
  },
  {
   "cell_type": "code",
   "execution_count": null,
   "id": "5946465a",
   "metadata": {},
   "outputs": [],
   "source": [
    "x, y = v.stair(target, optics_output)\n",
    "v.lineplot(x, y)"
   ]
  },
  {
   "cell_type": "code",
   "execution_count": null,
   "id": "5fb783da",
   "metadata": {},
   "outputs": [],
   "source": [
    "v.update_tsne(plot, optics_output)"
   ]
  },
  {
   "cell_type": "code",
   "execution_count": null,
   "id": "9747eab0",
   "metadata": {},
   "outputs": [],
   "source": [
    "s8 = metrics.adjusted_rand_score(target, optics_output)\n",
    "scores[7] = s8\n",
    "s8"
   ]
  },
  {
   "cell_type": "code",
   "execution_count": null,
   "id": "e4828941",
   "metadata": {},
   "outputs": [],
   "source": [
    "m.analyze(df, optics_output)"
   ]
  },
  {
   "cell_type": "code",
   "execution_count": null,
   "id": "0c976778",
   "metadata": {},
   "outputs": [],
   "source": [
    "birch_output = a.birch(data)\n",
    "birch_output"
   ]
  },
  {
   "cell_type": "code",
   "execution_count": null,
   "id": "d28732b6",
   "metadata": {},
   "outputs": [],
   "source": [
    "x, y = v.stair(target, birch_output)\n",
    "v.lineplot(x, y)"
   ]
  },
  {
   "cell_type": "code",
   "execution_count": null,
   "id": "237506ab",
   "metadata": {},
   "outputs": [],
   "source": [
    "v.update_tsne(plot, birch_output)"
   ]
  },
  {
   "cell_type": "code",
   "execution_count": null,
   "id": "08901a2c",
   "metadata": {},
   "outputs": [],
   "source": [
    "s9 = metrics.adjusted_rand_score(target, birch_output)\n",
    "scores[8] = s9\n",
    "s9"
   ]
  },
  {
   "cell_type": "code",
   "execution_count": null,
   "id": "a83ff2cc",
   "metadata": {},
   "outputs": [],
   "source": [
    "m.analyze(df, birch_output)"
   ]
  },
  {
   "cell_type": "code",
   "execution_count": null,
   "id": "40790b8e",
   "metadata": {},
   "outputs": [],
   "source": [
    "algorithms = [\"KModes\", \"KMeans\", \"AffinityPropagation\", \"MeanShift\", \"SpectralClustering\", \n",
    "              \"HierarchicalClustering\", \"DBSCAN\", \"OPTICS\", \"Birch\"]\n",
    "score_frame = pd.concat([pd.Series(algorithms), pd.Series(scores)], axis=1)\n",
    "score_frame.columns = [\"algorithm\", \"adjusted Rand score\"]\n",
    "score_frame"
   ]
  }
 ],
 "metadata": {
  "kernelspec": {
   "display_name": "Python 3 (ipykernel)",
   "language": "python",
   "name": "python3"
  },
  "language_info": {
   "codemirror_mode": {
    "name": "ipython",
    "version": 3
   },
   "file_extension": ".py",
   "mimetype": "text/x-python",
   "name": "python",
   "nbconvert_exporter": "python",
   "pygments_lexer": "ipython3",
   "version": "3.9.12"
  }
 },
 "nbformat": 4,
 "nbformat_minor": 5
}
